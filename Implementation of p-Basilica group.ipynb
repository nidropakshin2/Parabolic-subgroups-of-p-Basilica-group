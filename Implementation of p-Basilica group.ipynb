{
  "nbformat": 4,
  "nbformat_minor": 0,
  "metadata": {
    "colab": {
      "provenance": []
    },
    "kernelspec": {
      "name": "python3",
      "display_name": "Python 3"
    },
    "language_info": {
      "name": "python"
    }
  },
  "cells": [
    {
      "cell_type": "code",
      "execution_count": null,
      "metadata": {
        "colab": {
          "base_uri": "https://localhost:8080/"
        },
        "id": "DF2JzJUasc4A",
        "outputId": "412909ac-450c-4ea5-faa8-372caeedee9d"
      },
      "outputs": [
        {
          "output_type": "stream",
          "name": "stdout",
          "text": [
            "True\n"
          ]
        }
      ],
      "source": [
        "class aut:\n",
        "    def __init__(self, action, permutation):\n",
        "        self.action = action\n",
        "        for i in range(len(self.action)):\n",
        "            if self.action[i] == 1:\n",
        "                self.action[i] = lambda x: x\n",
        "        self.permutation = permutation\n",
        "\n",
        "    def __mul__(self, other):\n",
        "        new_perm = ''.join([self.permutation[int(other.permutation[i])] for i in range(len(self.permutation))])\n",
        "\n",
        "        new_act = [lambda x: self.action[i](other.action[int(self.permutation[i])](x)) for i in range(len(self.action))]\n",
        "        return aut(new_act, new_perm)\n",
        "\n",
        "    '''\n",
        "    def __pow__(self, n):\n",
        "        if n == 0:\n",
        "            return aut([1, 1, 1], '012')\n",
        "        if n > 0:\n",
        "            res = aut([1, 1, 1], '012')\n",
        "            for i in range(n):\n",
        "                res *= self\n",
        "            return res\n",
        "        if n == -1:\n",
        "            rev_perm = (self ** (len(self.permutation) - 1)).permutation\n",
        "            rev_act = []\n",
        "            return aut(rev_act, rev_perm)\n",
        "    '''\n",
        "\n",
        "    def __call__(self, v):\n",
        "        return self.permutation[int(v[0])] + self.action[int(self.permutation[int(v[0])])](v[1:])\n",
        "\n",
        "\n",
        "def gen1(v):\n",
        "    if v == '':\n",
        "        return ''\n",
        "    if v[0] == '0':\n",
        "        return '0' + v[1:]\n",
        "    if v[0] == '1':\n",
        "        return '1' + v[1:]\n",
        "    if v[0] == '2':\n",
        "        return '2' + gen2(v[1:])\n",
        "\n",
        "\n",
        "def rev_gen1(v):\n",
        "    if v == '':\n",
        "        return ''\n",
        "    if v[0] == '0':\n",
        "        return '0' + v[1:]\n",
        "    if v[0] == '1':\n",
        "        return '1' + v[1:]\n",
        "    if v[0] == '2':\n",
        "        return '2' + rev_gen2(v[1:])\n",
        "\n",
        "\n",
        "def gen2(v):\n",
        "    if v == '':\n",
        "        return ''\n",
        "    if v[0] == '0':\n",
        "        return '1' + v[1:]\n",
        "    if v[0] == '1':\n",
        "        return '2' + v[1:]\n",
        "    if v[0] == '2':\n",
        "        return '0' + gen1(v[1:])\n",
        "\n",
        "\n",
        "def rev_gen2(v):\n",
        "    if v == '':\n",
        "        return ''\n",
        "    if v[0] == '0':\n",
        "        return '2' + rev_gen1(v[1:])\n",
        "    if v[0] == '1':\n",
        "        return '0' + v[1:]\n",
        "    if v[0] == '2':\n",
        "        return '1' + v[1:]\n",
        "\n",
        "a = aut([1, 1, gen2], '012')\n",
        "b = aut([1, 1, gen1], '120')\n",
        "r_a = aut([1, 1, rev_gen2], '012')\n",
        "r_b = aut([rev_gen1, 1, 1], '201')\n",
        "\n",
        "\n",
        "def test(f, k):\n",
        "    vertices = list(map(lambda x: ''.join(x), product('012', repeat=k)))\n",
        "    for v in vertices:\n",
        "      print(v, f(v))"
      ]
    },
    {
      "cell_type": "code",
      "source": [
        "def is_stab(g, v):\n",
        "  return g(v) == v\n",
        "\n",
        "test()"
      ],
      "metadata": {
        "id": "MWVCNZEteLAp"
      },
      "execution_count": null,
      "outputs": []
    },
    {
      "cell_type": "code",
      "source": [
        "def compile(s):\n",
        "  s = s.split('*')\n",
        "  e = aut([1, 1, 1], '012')\n",
        "  for i in s:\n",
        "    if i == 'a':\n",
        "      e *= a\n",
        "    if i == 'r_a':\n",
        "      e *= r_a\n",
        "    if i == 'b':\n",
        "      e *= b\n",
        "    if i == 'r_b':\n",
        "      e *= r_b\n",
        "  return e\n",
        "\n",
        "print(all([compile('a*b*a')(i) == (a * b * a)(i) for i in list(map(lambda x: ''.join(x), product('012', repeat=5)))]))"
      ],
      "metadata": {
        "colab": {
          "base_uri": "https://localhost:8080/"
        },
        "id": "deoBv6XGcGHF",
        "outputId": "a21d7acf-5034-439d-a459-3d060a574970"
      },
      "execution_count": null,
      "outputs": [
        {
          "output_type": "stream",
          "name": "stdout",
          "text": [
            "True\n"
          ]
        }
      ]
    },
    {
      "cell_type": "code",
      "source": [
        "st = [r_b*a*b, r_b*r_b*a*b*b, r_a * b * b * b * a, r_a*r_a*b*b*b*a*a]\n",
        "v = '2' * 200\n",
        "bull = True\n",
        "for s in st:\n",
        "    if s(v) != v:\n",
        "      bull = False\n",
        "print(bull)\n",
        "\n",
        "\n"
      ],
      "metadata": {
        "colab": {
          "base_uri": "https://localhost:8080/"
        },
        "id": "RFqVtXQKYmyF",
        "outputId": "fbcbcd16-4050-406e-ec7a-56e3b879e5a7"
      },
      "execution_count": null,
      "outputs": [
        {
          "output_type": "stream",
          "name": "stdout",
          "text": [
            "True\n"
          ]
        }
      ]
    },
    {
      "cell_type": "code",
      "source": [
        "from itertools import product\n",
        "\n",
        "words = list(product(['a', 'b', 'r_a', 'r_b'], repeat=5))\n",
        "elements = []\n",
        "for i in words:\n",
        "    e = compile('*'.join(i))\n",
        "    elements.append(e)\n",
        "print(words)"
      ],
      "metadata": {
        "colab": {
          "base_uri": "https://localhost:8080/"
        },
        "id": "UJIysVhqYwgZ",
        "outputId": "767ab392-94de-45b4-a6ba-17eceaa43919"
      },
      "execution_count": null,
      "outputs": [
        {
          "output_type": "stream",
          "name": "stdout",
          "text": [
            "[('a', 'a', 'a', 'a', 'a'), ('a', 'a', 'a', 'a', 'b'), ('a', 'a', 'a', 'a', 'r_a'), ('a', 'a', 'a', 'a', 'r_b'), ('a', 'a', 'a', 'b', 'a'), ('a', 'a', 'a', 'b', 'b'), ('a', 'a', 'a', 'b', 'r_a'), ('a', 'a', 'a', 'b', 'r_b'), ('a', 'a', 'a', 'r_a', 'a'), ('a', 'a', 'a', 'r_a', 'b'), ('a', 'a', 'a', 'r_a', 'r_a'), ('a', 'a', 'a', 'r_a', 'r_b'), ('a', 'a', 'a', 'r_b', 'a'), ('a', 'a', 'a', 'r_b', 'b'), ('a', 'a', 'a', 'r_b', 'r_a'), ('a', 'a', 'a', 'r_b', 'r_b'), ('a', 'a', 'b', 'a', 'a'), ('a', 'a', 'b', 'a', 'b'), ('a', 'a', 'b', 'a', 'r_a'), ('a', 'a', 'b', 'a', 'r_b'), ('a', 'a', 'b', 'b', 'a'), ('a', 'a', 'b', 'b', 'b'), ('a', 'a', 'b', 'b', 'r_a'), ('a', 'a', 'b', 'b', 'r_b'), ('a', 'a', 'b', 'r_a', 'a'), ('a', 'a', 'b', 'r_a', 'b'), ('a', 'a', 'b', 'r_a', 'r_a'), ('a', 'a', 'b', 'r_a', 'r_b'), ('a', 'a', 'b', 'r_b', 'a'), ('a', 'a', 'b', 'r_b', 'b'), ('a', 'a', 'b', 'r_b', 'r_a'), ('a', 'a', 'b', 'r_b', 'r_b'), ('a', 'a', 'r_a', 'a', 'a'), ('a', 'a', 'r_a', 'a', 'b'), ('a', 'a', 'r_a', 'a', 'r_a'), ('a', 'a', 'r_a', 'a', 'r_b'), ('a', 'a', 'r_a', 'b', 'a'), ('a', 'a', 'r_a', 'b', 'b'), ('a', 'a', 'r_a', 'b', 'r_a'), ('a', 'a', 'r_a', 'b', 'r_b'), ('a', 'a', 'r_a', 'r_a', 'a'), ('a', 'a', 'r_a', 'r_a', 'b'), ('a', 'a', 'r_a', 'r_a', 'r_a'), ('a', 'a', 'r_a', 'r_a', 'r_b'), ('a', 'a', 'r_a', 'r_b', 'a'), ('a', 'a', 'r_a', 'r_b', 'b'), ('a', 'a', 'r_a', 'r_b', 'r_a'), ('a', 'a', 'r_a', 'r_b', 'r_b'), ('a', 'a', 'r_b', 'a', 'a'), ('a', 'a', 'r_b', 'a', 'b'), ('a', 'a', 'r_b', 'a', 'r_a'), ('a', 'a', 'r_b', 'a', 'r_b'), ('a', 'a', 'r_b', 'b', 'a'), ('a', 'a', 'r_b', 'b', 'b'), ('a', 'a', 'r_b', 'b', 'r_a'), ('a', 'a', 'r_b', 'b', 'r_b'), ('a', 'a', 'r_b', 'r_a', 'a'), ('a', 'a', 'r_b', 'r_a', 'b'), ('a', 'a', 'r_b', 'r_a', 'r_a'), ('a', 'a', 'r_b', 'r_a', 'r_b'), ('a', 'a', 'r_b', 'r_b', 'a'), ('a', 'a', 'r_b', 'r_b', 'b'), ('a', 'a', 'r_b', 'r_b', 'r_a'), ('a', 'a', 'r_b', 'r_b', 'r_b'), ('a', 'b', 'a', 'a', 'a'), ('a', 'b', 'a', 'a', 'b'), ('a', 'b', 'a', 'a', 'r_a'), ('a', 'b', 'a', 'a', 'r_b'), ('a', 'b', 'a', 'b', 'a'), ('a', 'b', 'a', 'b', 'b'), ('a', 'b', 'a', 'b', 'r_a'), ('a', 'b', 'a', 'b', 'r_b'), ('a', 'b', 'a', 'r_a', 'a'), ('a', 'b', 'a', 'r_a', 'b'), ('a', 'b', 'a', 'r_a', 'r_a'), ('a', 'b', 'a', 'r_a', 'r_b'), ('a', 'b', 'a', 'r_b', 'a'), ('a', 'b', 'a', 'r_b', 'b'), ('a', 'b', 'a', 'r_b', 'r_a'), ('a', 'b', 'a', 'r_b', 'r_b'), ('a', 'b', 'b', 'a', 'a'), ('a', 'b', 'b', 'a', 'b'), ('a', 'b', 'b', 'a', 'r_a'), ('a', 'b', 'b', 'a', 'r_b'), ('a', 'b', 'b', 'b', 'a'), ('a', 'b', 'b', 'b', 'b'), ('a', 'b', 'b', 'b', 'r_a'), ('a', 'b', 'b', 'b', 'r_b'), ('a', 'b', 'b', 'r_a', 'a'), ('a', 'b', 'b', 'r_a', 'b'), ('a', 'b', 'b', 'r_a', 'r_a'), ('a', 'b', 'b', 'r_a', 'r_b'), ('a', 'b', 'b', 'r_b', 'a'), ('a', 'b', 'b', 'r_b', 'b'), ('a', 'b', 'b', 'r_b', 'r_a'), ('a', 'b', 'b', 'r_b', 'r_b'), ('a', 'b', 'r_a', 'a', 'a'), ('a', 'b', 'r_a', 'a', 'b'), ('a', 'b', 'r_a', 'a', 'r_a'), ('a', 'b', 'r_a', 'a', 'r_b'), ('a', 'b', 'r_a', 'b', 'a'), ('a', 'b', 'r_a', 'b', 'b'), ('a', 'b', 'r_a', 'b', 'r_a'), ('a', 'b', 'r_a', 'b', 'r_b'), ('a', 'b', 'r_a', 'r_a', 'a'), ('a', 'b', 'r_a', 'r_a', 'b'), ('a', 'b', 'r_a', 'r_a', 'r_a'), ('a', 'b', 'r_a', 'r_a', 'r_b'), ('a', 'b', 'r_a', 'r_b', 'a'), ('a', 'b', 'r_a', 'r_b', 'b'), ('a', 'b', 'r_a', 'r_b', 'r_a'), ('a', 'b', 'r_a', 'r_b', 'r_b'), ('a', 'b', 'r_b', 'a', 'a'), ('a', 'b', 'r_b', 'a', 'b'), ('a', 'b', 'r_b', 'a', 'r_a'), ('a', 'b', 'r_b', 'a', 'r_b'), ('a', 'b', 'r_b', 'b', 'a'), ('a', 'b', 'r_b', 'b', 'b'), ('a', 'b', 'r_b', 'b', 'r_a'), ('a', 'b', 'r_b', 'b', 'r_b'), ('a', 'b', 'r_b', 'r_a', 'a'), ('a', 'b', 'r_b', 'r_a', 'b'), ('a', 'b', 'r_b', 'r_a', 'r_a'), ('a', 'b', 'r_b', 'r_a', 'r_b'), ('a', 'b', 'r_b', 'r_b', 'a'), ('a', 'b', 'r_b', 'r_b', 'b'), ('a', 'b', 'r_b', 'r_b', 'r_a'), ('a', 'b', 'r_b', 'r_b', 'r_b'), ('a', 'r_a', 'a', 'a', 'a'), ('a', 'r_a', 'a', 'a', 'b'), ('a', 'r_a', 'a', 'a', 'r_a'), ('a', 'r_a', 'a', 'a', 'r_b'), ('a', 'r_a', 'a', 'b', 'a'), ('a', 'r_a', 'a', 'b', 'b'), ('a', 'r_a', 'a', 'b', 'r_a'), ('a', 'r_a', 'a', 'b', 'r_b'), ('a', 'r_a', 'a', 'r_a', 'a'), ('a', 'r_a', 'a', 'r_a', 'b'), ('a', 'r_a', 'a', 'r_a', 'r_a'), ('a', 'r_a', 'a', 'r_a', 'r_b'), ('a', 'r_a', 'a', 'r_b', 'a'), ('a', 'r_a', 'a', 'r_b', 'b'), ('a', 'r_a', 'a', 'r_b', 'r_a'), ('a', 'r_a', 'a', 'r_b', 'r_b'), ('a', 'r_a', 'b', 'a', 'a'), ('a', 'r_a', 'b', 'a', 'b'), ('a', 'r_a', 'b', 'a', 'r_a'), ('a', 'r_a', 'b', 'a', 'r_b'), ('a', 'r_a', 'b', 'b', 'a'), ('a', 'r_a', 'b', 'b', 'b'), ('a', 'r_a', 'b', 'b', 'r_a'), ('a', 'r_a', 'b', 'b', 'r_b'), ('a', 'r_a', 'b', 'r_a', 'a'), ('a', 'r_a', 'b', 'r_a', 'b'), ('a', 'r_a', 'b', 'r_a', 'r_a'), ('a', 'r_a', 'b', 'r_a', 'r_b'), ('a', 'r_a', 'b', 'r_b', 'a'), ('a', 'r_a', 'b', 'r_b', 'b'), ('a', 'r_a', 'b', 'r_b', 'r_a'), ('a', 'r_a', 'b', 'r_b', 'r_b'), ('a', 'r_a', 'r_a', 'a', 'a'), ('a', 'r_a', 'r_a', 'a', 'b'), ('a', 'r_a', 'r_a', 'a', 'r_a'), ('a', 'r_a', 'r_a', 'a', 'r_b'), ('a', 'r_a', 'r_a', 'b', 'a'), ('a', 'r_a', 'r_a', 'b', 'b'), ('a', 'r_a', 'r_a', 'b', 'r_a'), ('a', 'r_a', 'r_a', 'b', 'r_b'), ('a', 'r_a', 'r_a', 'r_a', 'a'), ('a', 'r_a', 'r_a', 'r_a', 'b'), ('a', 'r_a', 'r_a', 'r_a', 'r_a'), ('a', 'r_a', 'r_a', 'r_a', 'r_b'), ('a', 'r_a', 'r_a', 'r_b', 'a'), ('a', 'r_a', 'r_a', 'r_b', 'b'), ('a', 'r_a', 'r_a', 'r_b', 'r_a'), ('a', 'r_a', 'r_a', 'r_b', 'r_b'), ('a', 'r_a', 'r_b', 'a', 'a'), ('a', 'r_a', 'r_b', 'a', 'b'), ('a', 'r_a', 'r_b', 'a', 'r_a'), ('a', 'r_a', 'r_b', 'a', 'r_b'), ('a', 'r_a', 'r_b', 'b', 'a'), ('a', 'r_a', 'r_b', 'b', 'b'), ('a', 'r_a', 'r_b', 'b', 'r_a'), ('a', 'r_a', 'r_b', 'b', 'r_b'), ('a', 'r_a', 'r_b', 'r_a', 'a'), ('a', 'r_a', 'r_b', 'r_a', 'b'), ('a', 'r_a', 'r_b', 'r_a', 'r_a'), ('a', 'r_a', 'r_b', 'r_a', 'r_b'), ('a', 'r_a', 'r_b', 'r_b', 'a'), ('a', 'r_a', 'r_b', 'r_b', 'b'), ('a', 'r_a', 'r_b', 'r_b', 'r_a'), ('a', 'r_a', 'r_b', 'r_b', 'r_b'), ('a', 'r_b', 'a', 'a', 'a'), ('a', 'r_b', 'a', 'a', 'b'), ('a', 'r_b', 'a', 'a', 'r_a'), ('a', 'r_b', 'a', 'a', 'r_b'), ('a', 'r_b', 'a', 'b', 'a'), ('a', 'r_b', 'a', 'b', 'b'), ('a', 'r_b', 'a', 'b', 'r_a'), ('a', 'r_b', 'a', 'b', 'r_b'), ('a', 'r_b', 'a', 'r_a', 'a'), ('a', 'r_b', 'a', 'r_a', 'b'), ('a', 'r_b', 'a', 'r_a', 'r_a'), ('a', 'r_b', 'a', 'r_a', 'r_b'), ('a', 'r_b', 'a', 'r_b', 'a'), ('a', 'r_b', 'a', 'r_b', 'b'), ('a', 'r_b', 'a', 'r_b', 'r_a'), ('a', 'r_b', 'a', 'r_b', 'r_b'), ('a', 'r_b', 'b', 'a', 'a'), ('a', 'r_b', 'b', 'a', 'b'), ('a', 'r_b', 'b', 'a', 'r_a'), ('a', 'r_b', 'b', 'a', 'r_b'), ('a', 'r_b', 'b', 'b', 'a'), ('a', 'r_b', 'b', 'b', 'b'), ('a', 'r_b', 'b', 'b', 'r_a'), ('a', 'r_b', 'b', 'b', 'r_b'), ('a', 'r_b', 'b', 'r_a', 'a'), ('a', 'r_b', 'b', 'r_a', 'b'), ('a', 'r_b', 'b', 'r_a', 'r_a'), ('a', 'r_b', 'b', 'r_a', 'r_b'), ('a', 'r_b', 'b', 'r_b', 'a'), ('a', 'r_b', 'b', 'r_b', 'b'), ('a', 'r_b', 'b', 'r_b', 'r_a'), ('a', 'r_b', 'b', 'r_b', 'r_b'), ('a', 'r_b', 'r_a', 'a', 'a'), ('a', 'r_b', 'r_a', 'a', 'b'), ('a', 'r_b', 'r_a', 'a', 'r_a'), ('a', 'r_b', 'r_a', 'a', 'r_b'), ('a', 'r_b', 'r_a', 'b', 'a'), ('a', 'r_b', 'r_a', 'b', 'b'), ('a', 'r_b', 'r_a', 'b', 'r_a'), ('a', 'r_b', 'r_a', 'b', 'r_b'), ('a', 'r_b', 'r_a', 'r_a', 'a'), ('a', 'r_b', 'r_a', 'r_a', 'b'), ('a', 'r_b', 'r_a', 'r_a', 'r_a'), ('a', 'r_b', 'r_a', 'r_a', 'r_b'), ('a', 'r_b', 'r_a', 'r_b', 'a'), ('a', 'r_b', 'r_a', 'r_b', 'b'), ('a', 'r_b', 'r_a', 'r_b', 'r_a'), ('a', 'r_b', 'r_a', 'r_b', 'r_b'), ('a', 'r_b', 'r_b', 'a', 'a'), ('a', 'r_b', 'r_b', 'a', 'b'), ('a', 'r_b', 'r_b', 'a', 'r_a'), ('a', 'r_b', 'r_b', 'a', 'r_b'), ('a', 'r_b', 'r_b', 'b', 'a'), ('a', 'r_b', 'r_b', 'b', 'b'), ('a', 'r_b', 'r_b', 'b', 'r_a'), ('a', 'r_b', 'r_b', 'b', 'r_b'), ('a', 'r_b', 'r_b', 'r_a', 'a'), ('a', 'r_b', 'r_b', 'r_a', 'b'), ('a', 'r_b', 'r_b', 'r_a', 'r_a'), ('a', 'r_b', 'r_b', 'r_a', 'r_b'), ('a', 'r_b', 'r_b', 'r_b', 'a'), ('a', 'r_b', 'r_b', 'r_b', 'b'), ('a', 'r_b', 'r_b', 'r_b', 'r_a'), ('a', 'r_b', 'r_b', 'r_b', 'r_b'), ('b', 'a', 'a', 'a', 'a'), ('b', 'a', 'a', 'a', 'b'), ('b', 'a', 'a', 'a', 'r_a'), ('b', 'a', 'a', 'a', 'r_b'), ('b', 'a', 'a', 'b', 'a'), ('b', 'a', 'a', 'b', 'b'), ('b', 'a', 'a', 'b', 'r_a'), ('b', 'a', 'a', 'b', 'r_b'), ('b', 'a', 'a', 'r_a', 'a'), ('b', 'a', 'a', 'r_a', 'b'), ('b', 'a', 'a', 'r_a', 'r_a'), ('b', 'a', 'a', 'r_a', 'r_b'), ('b', 'a', 'a', 'r_b', 'a'), ('b', 'a', 'a', 'r_b', 'b'), ('b', 'a', 'a', 'r_b', 'r_a'), ('b', 'a', 'a', 'r_b', 'r_b'), ('b', 'a', 'b', 'a', 'a'), ('b', 'a', 'b', 'a', 'b'), ('b', 'a', 'b', 'a', 'r_a'), ('b', 'a', 'b', 'a', 'r_b'), ('b', 'a', 'b', 'b', 'a'), ('b', 'a', 'b', 'b', 'b'), ('b', 'a', 'b', 'b', 'r_a'), ('b', 'a', 'b', 'b', 'r_b'), ('b', 'a', 'b', 'r_a', 'a'), ('b', 'a', 'b', 'r_a', 'b'), ('b', 'a', 'b', 'r_a', 'r_a'), ('b', 'a', 'b', 'r_a', 'r_b'), ('b', 'a', 'b', 'r_b', 'a'), ('b', 'a', 'b', 'r_b', 'b'), ('b', 'a', 'b', 'r_b', 'r_a'), ('b', 'a', 'b', 'r_b', 'r_b'), ('b', 'a', 'r_a', 'a', 'a'), ('b', 'a', 'r_a', 'a', 'b'), ('b', 'a', 'r_a', 'a', 'r_a'), ('b', 'a', 'r_a', 'a', 'r_b'), ('b', 'a', 'r_a', 'b', 'a'), ('b', 'a', 'r_a', 'b', 'b'), ('b', 'a', 'r_a', 'b', 'r_a'), ('b', 'a', 'r_a', 'b', 'r_b'), ('b', 'a', 'r_a', 'r_a', 'a'), ('b', 'a', 'r_a', 'r_a', 'b'), ('b', 'a', 'r_a', 'r_a', 'r_a'), ('b', 'a', 'r_a', 'r_a', 'r_b'), ('b', 'a', 'r_a', 'r_b', 'a'), ('b', 'a', 'r_a', 'r_b', 'b'), ('b', 'a', 'r_a', 'r_b', 'r_a'), ('b', 'a', 'r_a', 'r_b', 'r_b'), ('b', 'a', 'r_b', 'a', 'a'), ('b', 'a', 'r_b', 'a', 'b'), ('b', 'a', 'r_b', 'a', 'r_a'), ('b', 'a', 'r_b', 'a', 'r_b'), ('b', 'a', 'r_b', 'b', 'a'), ('b', 'a', 'r_b', 'b', 'b'), ('b', 'a', 'r_b', 'b', 'r_a'), ('b', 'a', 'r_b', 'b', 'r_b'), ('b', 'a', 'r_b', 'r_a', 'a'), ('b', 'a', 'r_b', 'r_a', 'b'), ('b', 'a', 'r_b', 'r_a', 'r_a'), ('b', 'a', 'r_b', 'r_a', 'r_b'), ('b', 'a', 'r_b', 'r_b', 'a'), ('b', 'a', 'r_b', 'r_b', 'b'), ('b', 'a', 'r_b', 'r_b', 'r_a'), ('b', 'a', 'r_b', 'r_b', 'r_b'), ('b', 'b', 'a', 'a', 'a'), ('b', 'b', 'a', 'a', 'b'), ('b', 'b', 'a', 'a', 'r_a'), ('b', 'b', 'a', 'a', 'r_b'), ('b', 'b', 'a', 'b', 'a'), ('b', 'b', 'a', 'b', 'b'), ('b', 'b', 'a', 'b', 'r_a'), ('b', 'b', 'a', 'b', 'r_b'), ('b', 'b', 'a', 'r_a', 'a'), ('b', 'b', 'a', 'r_a', 'b'), ('b', 'b', 'a', 'r_a', 'r_a'), ('b', 'b', 'a', 'r_a', 'r_b'), ('b', 'b', 'a', 'r_b', 'a'), ('b', 'b', 'a', 'r_b', 'b'), ('b', 'b', 'a', 'r_b', 'r_a'), ('b', 'b', 'a', 'r_b', 'r_b'), ('b', 'b', 'b', 'a', 'a'), ('b', 'b', 'b', 'a', 'b'), ('b', 'b', 'b', 'a', 'r_a'), ('b', 'b', 'b', 'a', 'r_b'), ('b', 'b', 'b', 'b', 'a'), ('b', 'b', 'b', 'b', 'b'), ('b', 'b', 'b', 'b', 'r_a'), ('b', 'b', 'b', 'b', 'r_b'), ('b', 'b', 'b', 'r_a', 'a'), ('b', 'b', 'b', 'r_a', 'b'), ('b', 'b', 'b', 'r_a', 'r_a'), ('b', 'b', 'b', 'r_a', 'r_b'), ('b', 'b', 'b', 'r_b', 'a'), ('b', 'b', 'b', 'r_b', 'b'), ('b', 'b', 'b', 'r_b', 'r_a'), ('b', 'b', 'b', 'r_b', 'r_b'), ('b', 'b', 'r_a', 'a', 'a'), ('b', 'b', 'r_a', 'a', 'b'), ('b', 'b', 'r_a', 'a', 'r_a'), ('b', 'b', 'r_a', 'a', 'r_b'), ('b', 'b', 'r_a', 'b', 'a'), ('b', 'b', 'r_a', 'b', 'b'), ('b', 'b', 'r_a', 'b', 'r_a'), ('b', 'b', 'r_a', 'b', 'r_b'), ('b', 'b', 'r_a', 'r_a', 'a'), ('b', 'b', 'r_a', 'r_a', 'b'), ('b', 'b', 'r_a', 'r_a', 'r_a'), ('b', 'b', 'r_a', 'r_a', 'r_b'), ('b', 'b', 'r_a', 'r_b', 'a'), ('b', 'b', 'r_a', 'r_b', 'b'), ('b', 'b', 'r_a', 'r_b', 'r_a'), ('b', 'b', 'r_a', 'r_b', 'r_b'), ('b', 'b', 'r_b', 'a', 'a'), ('b', 'b', 'r_b', 'a', 'b'), ('b', 'b', 'r_b', 'a', 'r_a'), ('b', 'b', 'r_b', 'a', 'r_b'), ('b', 'b', 'r_b', 'b', 'a'), ('b', 'b', 'r_b', 'b', 'b'), ('b', 'b', 'r_b', 'b', 'r_a'), ('b', 'b', 'r_b', 'b', 'r_b'), ('b', 'b', 'r_b', 'r_a', 'a'), ('b', 'b', 'r_b', 'r_a', 'b'), ('b', 'b', 'r_b', 'r_a', 'r_a'), ('b', 'b', 'r_b', 'r_a', 'r_b'), ('b', 'b', 'r_b', 'r_b', 'a'), ('b', 'b', 'r_b', 'r_b', 'b'), ('b', 'b', 'r_b', 'r_b', 'r_a'), ('b', 'b', 'r_b', 'r_b', 'r_b'), ('b', 'r_a', 'a', 'a', 'a'), ('b', 'r_a', 'a', 'a', 'b'), ('b', 'r_a', 'a', 'a', 'r_a'), ('b', 'r_a', 'a', 'a', 'r_b'), ('b', 'r_a', 'a', 'b', 'a'), ('b', 'r_a', 'a', 'b', 'b'), ('b', 'r_a', 'a', 'b', 'r_a'), ('b', 'r_a', 'a', 'b', 'r_b'), ('b', 'r_a', 'a', 'r_a', 'a'), ('b', 'r_a', 'a', 'r_a', 'b'), ('b', 'r_a', 'a', 'r_a', 'r_a'), ('b', 'r_a', 'a', 'r_a', 'r_b'), ('b', 'r_a', 'a', 'r_b', 'a'), ('b', 'r_a', 'a', 'r_b', 'b'), ('b', 'r_a', 'a', 'r_b', 'r_a'), ('b', 'r_a', 'a', 'r_b', 'r_b'), ('b', 'r_a', 'b', 'a', 'a'), ('b', 'r_a', 'b', 'a', 'b'), ('b', 'r_a', 'b', 'a', 'r_a'), ('b', 'r_a', 'b', 'a', 'r_b'), ('b', 'r_a', 'b', 'b', 'a'), ('b', 'r_a', 'b', 'b', 'b'), ('b', 'r_a', 'b', 'b', 'r_a'), ('b', 'r_a', 'b', 'b', 'r_b'), ('b', 'r_a', 'b', 'r_a', 'a'), ('b', 'r_a', 'b', 'r_a', 'b'), ('b', 'r_a', 'b', 'r_a', 'r_a'), ('b', 'r_a', 'b', 'r_a', 'r_b'), ('b', 'r_a', 'b', 'r_b', 'a'), ('b', 'r_a', 'b', 'r_b', 'b'), ('b', 'r_a', 'b', 'r_b', 'r_a'), ('b', 'r_a', 'b', 'r_b', 'r_b'), ('b', 'r_a', 'r_a', 'a', 'a'), ('b', 'r_a', 'r_a', 'a', 'b'), ('b', 'r_a', 'r_a', 'a', 'r_a'), ('b', 'r_a', 'r_a', 'a', 'r_b'), ('b', 'r_a', 'r_a', 'b', 'a'), ('b', 'r_a', 'r_a', 'b', 'b'), ('b', 'r_a', 'r_a', 'b', 'r_a'), ('b', 'r_a', 'r_a', 'b', 'r_b'), ('b', 'r_a', 'r_a', 'r_a', 'a'), ('b', 'r_a', 'r_a', 'r_a', 'b'), ('b', 'r_a', 'r_a', 'r_a', 'r_a'), ('b', 'r_a', 'r_a', 'r_a', 'r_b'), ('b', 'r_a', 'r_a', 'r_b', 'a'), ('b', 'r_a', 'r_a', 'r_b', 'b'), ('b', 'r_a', 'r_a', 'r_b', 'r_a'), ('b', 'r_a', 'r_a', 'r_b', 'r_b'), ('b', 'r_a', 'r_b', 'a', 'a'), ('b', 'r_a', 'r_b', 'a', 'b'), ('b', 'r_a', 'r_b', 'a', 'r_a'), ('b', 'r_a', 'r_b', 'a', 'r_b'), ('b', 'r_a', 'r_b', 'b', 'a'), ('b', 'r_a', 'r_b', 'b', 'b'), ('b', 'r_a', 'r_b', 'b', 'r_a'), ('b', 'r_a', 'r_b', 'b', 'r_b'), ('b', 'r_a', 'r_b', 'r_a', 'a'), ('b', 'r_a', 'r_b', 'r_a', 'b'), ('b', 'r_a', 'r_b', 'r_a', 'r_a'), ('b', 'r_a', 'r_b', 'r_a', 'r_b'), ('b', 'r_a', 'r_b', 'r_b', 'a'), ('b', 'r_a', 'r_b', 'r_b', 'b'), ('b', 'r_a', 'r_b', 'r_b', 'r_a'), ('b', 'r_a', 'r_b', 'r_b', 'r_b'), ('b', 'r_b', 'a', 'a', 'a'), ('b', 'r_b', 'a', 'a', 'b'), ('b', 'r_b', 'a', 'a', 'r_a'), ('b', 'r_b', 'a', 'a', 'r_b'), ('b', 'r_b', 'a', 'b', 'a'), ('b', 'r_b', 'a', 'b', 'b'), ('b', 'r_b', 'a', 'b', 'r_a'), ('b', 'r_b', 'a', 'b', 'r_b'), ('b', 'r_b', 'a', 'r_a', 'a'), ('b', 'r_b', 'a', 'r_a', 'b'), ('b', 'r_b', 'a', 'r_a', 'r_a'), ('b', 'r_b', 'a', 'r_a', 'r_b'), ('b', 'r_b', 'a', 'r_b', 'a'), ('b', 'r_b', 'a', 'r_b', 'b'), ('b', 'r_b', 'a', 'r_b', 'r_a'), ('b', 'r_b', 'a', 'r_b', 'r_b'), ('b', 'r_b', 'b', 'a', 'a'), ('b', 'r_b', 'b', 'a', 'b'), ('b', 'r_b', 'b', 'a', 'r_a'), ('b', 'r_b', 'b', 'a', 'r_b'), ('b', 'r_b', 'b', 'b', 'a'), ('b', 'r_b', 'b', 'b', 'b'), ('b', 'r_b', 'b', 'b', 'r_a'), ('b', 'r_b', 'b', 'b', 'r_b'), ('b', 'r_b', 'b', 'r_a', 'a'), ('b', 'r_b', 'b', 'r_a', 'b'), ('b', 'r_b', 'b', 'r_a', 'r_a'), ('b', 'r_b', 'b', 'r_a', 'r_b'), ('b', 'r_b', 'b', 'r_b', 'a'), ('b', 'r_b', 'b', 'r_b', 'b'), ('b', 'r_b', 'b', 'r_b', 'r_a'), ('b', 'r_b', 'b', 'r_b', 'r_b'), ('b', 'r_b', 'r_a', 'a', 'a'), ('b', 'r_b', 'r_a', 'a', 'b'), ('b', 'r_b', 'r_a', 'a', 'r_a'), ('b', 'r_b', 'r_a', 'a', 'r_b'), ('b', 'r_b', 'r_a', 'b', 'a'), ('b', 'r_b', 'r_a', 'b', 'b'), ('b', 'r_b', 'r_a', 'b', 'r_a'), ('b', 'r_b', 'r_a', 'b', 'r_b'), ('b', 'r_b', 'r_a', 'r_a', 'a'), ('b', 'r_b', 'r_a', 'r_a', 'b'), ('b', 'r_b', 'r_a', 'r_a', 'r_a'), ('b', 'r_b', 'r_a', 'r_a', 'r_b'), ('b', 'r_b', 'r_a', 'r_b', 'a'), ('b', 'r_b', 'r_a', 'r_b', 'b'), ('b', 'r_b', 'r_a', 'r_b', 'r_a'), ('b', 'r_b', 'r_a', 'r_b', 'r_b'), ('b', 'r_b', 'r_b', 'a', 'a'), ('b', 'r_b', 'r_b', 'a', 'b'), ('b', 'r_b', 'r_b', 'a', 'r_a'), ('b', 'r_b', 'r_b', 'a', 'r_b'), ('b', 'r_b', 'r_b', 'b', 'a'), ('b', 'r_b', 'r_b', 'b', 'b'), ('b', 'r_b', 'r_b', 'b', 'r_a'), ('b', 'r_b', 'r_b', 'b', 'r_b'), ('b', 'r_b', 'r_b', 'r_a', 'a'), ('b', 'r_b', 'r_b', 'r_a', 'b'), ('b', 'r_b', 'r_b', 'r_a', 'r_a'), ('b', 'r_b', 'r_b', 'r_a', 'r_b'), ('b', 'r_b', 'r_b', 'r_b', 'a'), ('b', 'r_b', 'r_b', 'r_b', 'b'), ('b', 'r_b', 'r_b', 'r_b', 'r_a'), ('b', 'r_b', 'r_b', 'r_b', 'r_b'), ('r_a', 'a', 'a', 'a', 'a'), ('r_a', 'a', 'a', 'a', 'b'), ('r_a', 'a', 'a', 'a', 'r_a'), ('r_a', 'a', 'a', 'a', 'r_b'), ('r_a', 'a', 'a', 'b', 'a'), ('r_a', 'a', 'a', 'b', 'b'), ('r_a', 'a', 'a', 'b', 'r_a'), ('r_a', 'a', 'a', 'b', 'r_b'), ('r_a', 'a', 'a', 'r_a', 'a'), ('r_a', 'a', 'a', 'r_a', 'b'), ('r_a', 'a', 'a', 'r_a', 'r_a'), ('r_a', 'a', 'a', 'r_a', 'r_b'), ('r_a', 'a', 'a', 'r_b', 'a'), ('r_a', 'a', 'a', 'r_b', 'b'), ('r_a', 'a', 'a', 'r_b', 'r_a'), ('r_a', 'a', 'a', 'r_b', 'r_b'), ('r_a', 'a', 'b', 'a', 'a'), ('r_a', 'a', 'b', 'a', 'b'), ('r_a', 'a', 'b', 'a', 'r_a'), ('r_a', 'a', 'b', 'a', 'r_b'), ('r_a', 'a', 'b', 'b', 'a'), ('r_a', 'a', 'b', 'b', 'b'), ('r_a', 'a', 'b', 'b', 'r_a'), ('r_a', 'a', 'b', 'b', 'r_b'), ('r_a', 'a', 'b', 'r_a', 'a'), ('r_a', 'a', 'b', 'r_a', 'b'), ('r_a', 'a', 'b', 'r_a', 'r_a'), ('r_a', 'a', 'b', 'r_a', 'r_b'), ('r_a', 'a', 'b', 'r_b', 'a'), ('r_a', 'a', 'b', 'r_b', 'b'), ('r_a', 'a', 'b', 'r_b', 'r_a'), ('r_a', 'a', 'b', 'r_b', 'r_b'), ('r_a', 'a', 'r_a', 'a', 'a'), ('r_a', 'a', 'r_a', 'a', 'b'), ('r_a', 'a', 'r_a', 'a', 'r_a'), ('r_a', 'a', 'r_a', 'a', 'r_b'), ('r_a', 'a', 'r_a', 'b', 'a'), ('r_a', 'a', 'r_a', 'b', 'b'), ('r_a', 'a', 'r_a', 'b', 'r_a'), ('r_a', 'a', 'r_a', 'b', 'r_b'), ('r_a', 'a', 'r_a', 'r_a', 'a'), ('r_a', 'a', 'r_a', 'r_a', 'b'), ('r_a', 'a', 'r_a', 'r_a', 'r_a'), ('r_a', 'a', 'r_a', 'r_a', 'r_b'), ('r_a', 'a', 'r_a', 'r_b', 'a'), ('r_a', 'a', 'r_a', 'r_b', 'b'), ('r_a', 'a', 'r_a', 'r_b', 'r_a'), ('r_a', 'a', 'r_a', 'r_b', 'r_b'), ('r_a', 'a', 'r_b', 'a', 'a'), ('r_a', 'a', 'r_b', 'a', 'b'), ('r_a', 'a', 'r_b', 'a', 'r_a'), ('r_a', 'a', 'r_b', 'a', 'r_b'), ('r_a', 'a', 'r_b', 'b', 'a'), ('r_a', 'a', 'r_b', 'b', 'b'), ('r_a', 'a', 'r_b', 'b', 'r_a'), ('r_a', 'a', 'r_b', 'b', 'r_b'), ('r_a', 'a', 'r_b', 'r_a', 'a'), ('r_a', 'a', 'r_b', 'r_a', 'b'), ('r_a', 'a', 'r_b', 'r_a', 'r_a'), ('r_a', 'a', 'r_b', 'r_a', 'r_b'), ('r_a', 'a', 'r_b', 'r_b', 'a'), ('r_a', 'a', 'r_b', 'r_b', 'b'), ('r_a', 'a', 'r_b', 'r_b', 'r_a'), ('r_a', 'a', 'r_b', 'r_b', 'r_b'), ('r_a', 'b', 'a', 'a', 'a'), ('r_a', 'b', 'a', 'a', 'b'), ('r_a', 'b', 'a', 'a', 'r_a'), ('r_a', 'b', 'a', 'a', 'r_b'), ('r_a', 'b', 'a', 'b', 'a'), ('r_a', 'b', 'a', 'b', 'b'), ('r_a', 'b', 'a', 'b', 'r_a'), ('r_a', 'b', 'a', 'b', 'r_b'), ('r_a', 'b', 'a', 'r_a', 'a'), ('r_a', 'b', 'a', 'r_a', 'b'), ('r_a', 'b', 'a', 'r_a', 'r_a'), ('r_a', 'b', 'a', 'r_a', 'r_b'), ('r_a', 'b', 'a', 'r_b', 'a'), ('r_a', 'b', 'a', 'r_b', 'b'), ('r_a', 'b', 'a', 'r_b', 'r_a'), ('r_a', 'b', 'a', 'r_b', 'r_b'), ('r_a', 'b', 'b', 'a', 'a'), ('r_a', 'b', 'b', 'a', 'b'), ('r_a', 'b', 'b', 'a', 'r_a'), ('r_a', 'b', 'b', 'a', 'r_b'), ('r_a', 'b', 'b', 'b', 'a'), ('r_a', 'b', 'b', 'b', 'b'), ('r_a', 'b', 'b', 'b', 'r_a'), ('r_a', 'b', 'b', 'b', 'r_b'), ('r_a', 'b', 'b', 'r_a', 'a'), ('r_a', 'b', 'b', 'r_a', 'b'), ('r_a', 'b', 'b', 'r_a', 'r_a'), ('r_a', 'b', 'b', 'r_a', 'r_b'), ('r_a', 'b', 'b', 'r_b', 'a'), ('r_a', 'b', 'b', 'r_b', 'b'), ('r_a', 'b', 'b', 'r_b', 'r_a'), ('r_a', 'b', 'b', 'r_b', 'r_b'), ('r_a', 'b', 'r_a', 'a', 'a'), ('r_a', 'b', 'r_a', 'a', 'b'), ('r_a', 'b', 'r_a', 'a', 'r_a'), ('r_a', 'b', 'r_a', 'a', 'r_b'), ('r_a', 'b', 'r_a', 'b', 'a'), ('r_a', 'b', 'r_a', 'b', 'b'), ('r_a', 'b', 'r_a', 'b', 'r_a'), ('r_a', 'b', 'r_a', 'b', 'r_b'), ('r_a', 'b', 'r_a', 'r_a', 'a'), ('r_a', 'b', 'r_a', 'r_a', 'b'), ('r_a', 'b', 'r_a', 'r_a', 'r_a'), ('r_a', 'b', 'r_a', 'r_a', 'r_b'), ('r_a', 'b', 'r_a', 'r_b', 'a'), ('r_a', 'b', 'r_a', 'r_b', 'b'), ('r_a', 'b', 'r_a', 'r_b', 'r_a'), ('r_a', 'b', 'r_a', 'r_b', 'r_b'), ('r_a', 'b', 'r_b', 'a', 'a'), ('r_a', 'b', 'r_b', 'a', 'b'), ('r_a', 'b', 'r_b', 'a', 'r_a'), ('r_a', 'b', 'r_b', 'a', 'r_b'), ('r_a', 'b', 'r_b', 'b', 'a'), ('r_a', 'b', 'r_b', 'b', 'b'), ('r_a', 'b', 'r_b', 'b', 'r_a'), ('r_a', 'b', 'r_b', 'b', 'r_b'), ('r_a', 'b', 'r_b', 'r_a', 'a'), ('r_a', 'b', 'r_b', 'r_a', 'b'), ('r_a', 'b', 'r_b', 'r_a', 'r_a'), ('r_a', 'b', 'r_b', 'r_a', 'r_b'), ('r_a', 'b', 'r_b', 'r_b', 'a'), ('r_a', 'b', 'r_b', 'r_b', 'b'), ('r_a', 'b', 'r_b', 'r_b', 'r_a'), ('r_a', 'b', 'r_b', 'r_b', 'r_b'), ('r_a', 'r_a', 'a', 'a', 'a'), ('r_a', 'r_a', 'a', 'a', 'b'), ('r_a', 'r_a', 'a', 'a', 'r_a'), ('r_a', 'r_a', 'a', 'a', 'r_b'), ('r_a', 'r_a', 'a', 'b', 'a'), ('r_a', 'r_a', 'a', 'b', 'b'), ('r_a', 'r_a', 'a', 'b', 'r_a'), ('r_a', 'r_a', 'a', 'b', 'r_b'), ('r_a', 'r_a', 'a', 'r_a', 'a'), ('r_a', 'r_a', 'a', 'r_a', 'b'), ('r_a', 'r_a', 'a', 'r_a', 'r_a'), ('r_a', 'r_a', 'a', 'r_a', 'r_b'), ('r_a', 'r_a', 'a', 'r_b', 'a'), ('r_a', 'r_a', 'a', 'r_b', 'b'), ('r_a', 'r_a', 'a', 'r_b', 'r_a'), ('r_a', 'r_a', 'a', 'r_b', 'r_b'), ('r_a', 'r_a', 'b', 'a', 'a'), ('r_a', 'r_a', 'b', 'a', 'b'), ('r_a', 'r_a', 'b', 'a', 'r_a'), ('r_a', 'r_a', 'b', 'a', 'r_b'), ('r_a', 'r_a', 'b', 'b', 'a'), ('r_a', 'r_a', 'b', 'b', 'b'), ('r_a', 'r_a', 'b', 'b', 'r_a'), ('r_a', 'r_a', 'b', 'b', 'r_b'), ('r_a', 'r_a', 'b', 'r_a', 'a'), ('r_a', 'r_a', 'b', 'r_a', 'b'), ('r_a', 'r_a', 'b', 'r_a', 'r_a'), ('r_a', 'r_a', 'b', 'r_a', 'r_b'), ('r_a', 'r_a', 'b', 'r_b', 'a'), ('r_a', 'r_a', 'b', 'r_b', 'b'), ('r_a', 'r_a', 'b', 'r_b', 'r_a'), ('r_a', 'r_a', 'b', 'r_b', 'r_b'), ('r_a', 'r_a', 'r_a', 'a', 'a'), ('r_a', 'r_a', 'r_a', 'a', 'b'), ('r_a', 'r_a', 'r_a', 'a', 'r_a'), ('r_a', 'r_a', 'r_a', 'a', 'r_b'), ('r_a', 'r_a', 'r_a', 'b', 'a'), ('r_a', 'r_a', 'r_a', 'b', 'b'), ('r_a', 'r_a', 'r_a', 'b', 'r_a'), ('r_a', 'r_a', 'r_a', 'b', 'r_b'), ('r_a', 'r_a', 'r_a', 'r_a', 'a'), ('r_a', 'r_a', 'r_a', 'r_a', 'b'), ('r_a', 'r_a', 'r_a', 'r_a', 'r_a'), ('r_a', 'r_a', 'r_a', 'r_a', 'r_b'), ('r_a', 'r_a', 'r_a', 'r_b', 'a'), ('r_a', 'r_a', 'r_a', 'r_b', 'b'), ('r_a', 'r_a', 'r_a', 'r_b', 'r_a'), ('r_a', 'r_a', 'r_a', 'r_b', 'r_b'), ('r_a', 'r_a', 'r_b', 'a', 'a'), ('r_a', 'r_a', 'r_b', 'a', 'b'), ('r_a', 'r_a', 'r_b', 'a', 'r_a'), ('r_a', 'r_a', 'r_b', 'a', 'r_b'), ('r_a', 'r_a', 'r_b', 'b', 'a'), ('r_a', 'r_a', 'r_b', 'b', 'b'), ('r_a', 'r_a', 'r_b', 'b', 'r_a'), ('r_a', 'r_a', 'r_b', 'b', 'r_b'), ('r_a', 'r_a', 'r_b', 'r_a', 'a'), ('r_a', 'r_a', 'r_b', 'r_a', 'b'), ('r_a', 'r_a', 'r_b', 'r_a', 'r_a'), ('r_a', 'r_a', 'r_b', 'r_a', 'r_b'), ('r_a', 'r_a', 'r_b', 'r_b', 'a'), ('r_a', 'r_a', 'r_b', 'r_b', 'b'), ('r_a', 'r_a', 'r_b', 'r_b', 'r_a'), ('r_a', 'r_a', 'r_b', 'r_b', 'r_b'), ('r_a', 'r_b', 'a', 'a', 'a'), ('r_a', 'r_b', 'a', 'a', 'b'), ('r_a', 'r_b', 'a', 'a', 'r_a'), ('r_a', 'r_b', 'a', 'a', 'r_b'), ('r_a', 'r_b', 'a', 'b', 'a'), ('r_a', 'r_b', 'a', 'b', 'b'), ('r_a', 'r_b', 'a', 'b', 'r_a'), ('r_a', 'r_b', 'a', 'b', 'r_b'), ('r_a', 'r_b', 'a', 'r_a', 'a'), ('r_a', 'r_b', 'a', 'r_a', 'b'), ('r_a', 'r_b', 'a', 'r_a', 'r_a'), ('r_a', 'r_b', 'a', 'r_a', 'r_b'), ('r_a', 'r_b', 'a', 'r_b', 'a'), ('r_a', 'r_b', 'a', 'r_b', 'b'), ('r_a', 'r_b', 'a', 'r_b', 'r_a'), ('r_a', 'r_b', 'a', 'r_b', 'r_b'), ('r_a', 'r_b', 'b', 'a', 'a'), ('r_a', 'r_b', 'b', 'a', 'b'), ('r_a', 'r_b', 'b', 'a', 'r_a'), ('r_a', 'r_b', 'b', 'a', 'r_b'), ('r_a', 'r_b', 'b', 'b', 'a'), ('r_a', 'r_b', 'b', 'b', 'b'), ('r_a', 'r_b', 'b', 'b', 'r_a'), ('r_a', 'r_b', 'b', 'b', 'r_b'), ('r_a', 'r_b', 'b', 'r_a', 'a'), ('r_a', 'r_b', 'b', 'r_a', 'b'), ('r_a', 'r_b', 'b', 'r_a', 'r_a'), ('r_a', 'r_b', 'b', 'r_a', 'r_b'), ('r_a', 'r_b', 'b', 'r_b', 'a'), ('r_a', 'r_b', 'b', 'r_b', 'b'), ('r_a', 'r_b', 'b', 'r_b', 'r_a'), ('r_a', 'r_b', 'b', 'r_b', 'r_b'), ('r_a', 'r_b', 'r_a', 'a', 'a'), ('r_a', 'r_b', 'r_a', 'a', 'b'), ('r_a', 'r_b', 'r_a', 'a', 'r_a'), ('r_a', 'r_b', 'r_a', 'a', 'r_b'), ('r_a', 'r_b', 'r_a', 'b', 'a'), ('r_a', 'r_b', 'r_a', 'b', 'b'), ('r_a', 'r_b', 'r_a', 'b', 'r_a'), ('r_a', 'r_b', 'r_a', 'b', 'r_b'), ('r_a', 'r_b', 'r_a', 'r_a', 'a'), ('r_a', 'r_b', 'r_a', 'r_a', 'b'), ('r_a', 'r_b', 'r_a', 'r_a', 'r_a'), ('r_a', 'r_b', 'r_a', 'r_a', 'r_b'), ('r_a', 'r_b', 'r_a', 'r_b', 'a'), ('r_a', 'r_b', 'r_a', 'r_b', 'b'), ('r_a', 'r_b', 'r_a', 'r_b', 'r_a'), ('r_a', 'r_b', 'r_a', 'r_b', 'r_b'), ('r_a', 'r_b', 'r_b', 'a', 'a'), ('r_a', 'r_b', 'r_b', 'a', 'b'), ('r_a', 'r_b', 'r_b', 'a', 'r_a'), ('r_a', 'r_b', 'r_b', 'a', 'r_b'), ('r_a', 'r_b', 'r_b', 'b', 'a'), ('r_a', 'r_b', 'r_b', 'b', 'b'), ('r_a', 'r_b', 'r_b', 'b', 'r_a'), ('r_a', 'r_b', 'r_b', 'b', 'r_b'), ('r_a', 'r_b', 'r_b', 'r_a', 'a'), ('r_a', 'r_b', 'r_b', 'r_a', 'b'), ('r_a', 'r_b', 'r_b', 'r_a', 'r_a'), ('r_a', 'r_b', 'r_b', 'r_a', 'r_b'), ('r_a', 'r_b', 'r_b', 'r_b', 'a'), ('r_a', 'r_b', 'r_b', 'r_b', 'b'), ('r_a', 'r_b', 'r_b', 'r_b', 'r_a'), ('r_a', 'r_b', 'r_b', 'r_b', 'r_b'), ('r_b', 'a', 'a', 'a', 'a'), ('r_b', 'a', 'a', 'a', 'b'), ('r_b', 'a', 'a', 'a', 'r_a'), ('r_b', 'a', 'a', 'a', 'r_b'), ('r_b', 'a', 'a', 'b', 'a'), ('r_b', 'a', 'a', 'b', 'b'), ('r_b', 'a', 'a', 'b', 'r_a'), ('r_b', 'a', 'a', 'b', 'r_b'), ('r_b', 'a', 'a', 'r_a', 'a'), ('r_b', 'a', 'a', 'r_a', 'b'), ('r_b', 'a', 'a', 'r_a', 'r_a'), ('r_b', 'a', 'a', 'r_a', 'r_b'), ('r_b', 'a', 'a', 'r_b', 'a'), ('r_b', 'a', 'a', 'r_b', 'b'), ('r_b', 'a', 'a', 'r_b', 'r_a'), ('r_b', 'a', 'a', 'r_b', 'r_b'), ('r_b', 'a', 'b', 'a', 'a'), ('r_b', 'a', 'b', 'a', 'b'), ('r_b', 'a', 'b', 'a', 'r_a'), ('r_b', 'a', 'b', 'a', 'r_b'), ('r_b', 'a', 'b', 'b', 'a'), ('r_b', 'a', 'b', 'b', 'b'), ('r_b', 'a', 'b', 'b', 'r_a'), ('r_b', 'a', 'b', 'b', 'r_b'), ('r_b', 'a', 'b', 'r_a', 'a'), ('r_b', 'a', 'b', 'r_a', 'b'), ('r_b', 'a', 'b', 'r_a', 'r_a'), ('r_b', 'a', 'b', 'r_a', 'r_b'), ('r_b', 'a', 'b', 'r_b', 'a'), ('r_b', 'a', 'b', 'r_b', 'b'), ('r_b', 'a', 'b', 'r_b', 'r_a'), ('r_b', 'a', 'b', 'r_b', 'r_b'), ('r_b', 'a', 'r_a', 'a', 'a'), ('r_b', 'a', 'r_a', 'a', 'b'), ('r_b', 'a', 'r_a', 'a', 'r_a'), ('r_b', 'a', 'r_a', 'a', 'r_b'), ('r_b', 'a', 'r_a', 'b', 'a'), ('r_b', 'a', 'r_a', 'b', 'b'), ('r_b', 'a', 'r_a', 'b', 'r_a'), ('r_b', 'a', 'r_a', 'b', 'r_b'), ('r_b', 'a', 'r_a', 'r_a', 'a'), ('r_b', 'a', 'r_a', 'r_a', 'b'), ('r_b', 'a', 'r_a', 'r_a', 'r_a'), ('r_b', 'a', 'r_a', 'r_a', 'r_b'), ('r_b', 'a', 'r_a', 'r_b', 'a'), ('r_b', 'a', 'r_a', 'r_b', 'b'), ('r_b', 'a', 'r_a', 'r_b', 'r_a'), ('r_b', 'a', 'r_a', 'r_b', 'r_b'), ('r_b', 'a', 'r_b', 'a', 'a'), ('r_b', 'a', 'r_b', 'a', 'b'), ('r_b', 'a', 'r_b', 'a', 'r_a'), ('r_b', 'a', 'r_b', 'a', 'r_b'), ('r_b', 'a', 'r_b', 'b', 'a'), ('r_b', 'a', 'r_b', 'b', 'b'), ('r_b', 'a', 'r_b', 'b', 'r_a'), ('r_b', 'a', 'r_b', 'b', 'r_b'), ('r_b', 'a', 'r_b', 'r_a', 'a'), ('r_b', 'a', 'r_b', 'r_a', 'b'), ('r_b', 'a', 'r_b', 'r_a', 'r_a'), ('r_b', 'a', 'r_b', 'r_a', 'r_b'), ('r_b', 'a', 'r_b', 'r_b', 'a'), ('r_b', 'a', 'r_b', 'r_b', 'b'), ('r_b', 'a', 'r_b', 'r_b', 'r_a'), ('r_b', 'a', 'r_b', 'r_b', 'r_b'), ('r_b', 'b', 'a', 'a', 'a'), ('r_b', 'b', 'a', 'a', 'b'), ('r_b', 'b', 'a', 'a', 'r_a'), ('r_b', 'b', 'a', 'a', 'r_b'), ('r_b', 'b', 'a', 'b', 'a'), ('r_b', 'b', 'a', 'b', 'b'), ('r_b', 'b', 'a', 'b', 'r_a'), ('r_b', 'b', 'a', 'b', 'r_b'), ('r_b', 'b', 'a', 'r_a', 'a'), ('r_b', 'b', 'a', 'r_a', 'b'), ('r_b', 'b', 'a', 'r_a', 'r_a'), ('r_b', 'b', 'a', 'r_a', 'r_b'), ('r_b', 'b', 'a', 'r_b', 'a'), ('r_b', 'b', 'a', 'r_b', 'b'), ('r_b', 'b', 'a', 'r_b', 'r_a'), ('r_b', 'b', 'a', 'r_b', 'r_b'), ('r_b', 'b', 'b', 'a', 'a'), ('r_b', 'b', 'b', 'a', 'b'), ('r_b', 'b', 'b', 'a', 'r_a'), ('r_b', 'b', 'b', 'a', 'r_b'), ('r_b', 'b', 'b', 'b', 'a'), ('r_b', 'b', 'b', 'b', 'b'), ('r_b', 'b', 'b', 'b', 'r_a'), ('r_b', 'b', 'b', 'b', 'r_b'), ('r_b', 'b', 'b', 'r_a', 'a'), ('r_b', 'b', 'b', 'r_a', 'b'), ('r_b', 'b', 'b', 'r_a', 'r_a'), ('r_b', 'b', 'b', 'r_a', 'r_b'), ('r_b', 'b', 'b', 'r_b', 'a'), ('r_b', 'b', 'b', 'r_b', 'b'), ('r_b', 'b', 'b', 'r_b', 'r_a'), ('r_b', 'b', 'b', 'r_b', 'r_b'), ('r_b', 'b', 'r_a', 'a', 'a'), ('r_b', 'b', 'r_a', 'a', 'b'), ('r_b', 'b', 'r_a', 'a', 'r_a'), ('r_b', 'b', 'r_a', 'a', 'r_b'), ('r_b', 'b', 'r_a', 'b', 'a'), ('r_b', 'b', 'r_a', 'b', 'b'), ('r_b', 'b', 'r_a', 'b', 'r_a'), ('r_b', 'b', 'r_a', 'b', 'r_b'), ('r_b', 'b', 'r_a', 'r_a', 'a'), ('r_b', 'b', 'r_a', 'r_a', 'b'), ('r_b', 'b', 'r_a', 'r_a', 'r_a'), ('r_b', 'b', 'r_a', 'r_a', 'r_b'), ('r_b', 'b', 'r_a', 'r_b', 'a'), ('r_b', 'b', 'r_a', 'r_b', 'b'), ('r_b', 'b', 'r_a', 'r_b', 'r_a'), ('r_b', 'b', 'r_a', 'r_b', 'r_b'), ('r_b', 'b', 'r_b', 'a', 'a'), ('r_b', 'b', 'r_b', 'a', 'b'), ('r_b', 'b', 'r_b', 'a', 'r_a'), ('r_b', 'b', 'r_b', 'a', 'r_b'), ('r_b', 'b', 'r_b', 'b', 'a'), ('r_b', 'b', 'r_b', 'b', 'b'), ('r_b', 'b', 'r_b', 'b', 'r_a'), ('r_b', 'b', 'r_b', 'b', 'r_b'), ('r_b', 'b', 'r_b', 'r_a', 'a'), ('r_b', 'b', 'r_b', 'r_a', 'b'), ('r_b', 'b', 'r_b', 'r_a', 'r_a'), ('r_b', 'b', 'r_b', 'r_a', 'r_b'), ('r_b', 'b', 'r_b', 'r_b', 'a'), ('r_b', 'b', 'r_b', 'r_b', 'b'), ('r_b', 'b', 'r_b', 'r_b', 'r_a'), ('r_b', 'b', 'r_b', 'r_b', 'r_b'), ('r_b', 'r_a', 'a', 'a', 'a'), ('r_b', 'r_a', 'a', 'a', 'b'), ('r_b', 'r_a', 'a', 'a', 'r_a'), ('r_b', 'r_a', 'a', 'a', 'r_b'), ('r_b', 'r_a', 'a', 'b', 'a'), ('r_b', 'r_a', 'a', 'b', 'b'), ('r_b', 'r_a', 'a', 'b', 'r_a'), ('r_b', 'r_a', 'a', 'b', 'r_b'), ('r_b', 'r_a', 'a', 'r_a', 'a'), ('r_b', 'r_a', 'a', 'r_a', 'b'), ('r_b', 'r_a', 'a', 'r_a', 'r_a'), ('r_b', 'r_a', 'a', 'r_a', 'r_b'), ('r_b', 'r_a', 'a', 'r_b', 'a'), ('r_b', 'r_a', 'a', 'r_b', 'b'), ('r_b', 'r_a', 'a', 'r_b', 'r_a'), ('r_b', 'r_a', 'a', 'r_b', 'r_b'), ('r_b', 'r_a', 'b', 'a', 'a'), ('r_b', 'r_a', 'b', 'a', 'b'), ('r_b', 'r_a', 'b', 'a', 'r_a'), ('r_b', 'r_a', 'b', 'a', 'r_b'), ('r_b', 'r_a', 'b', 'b', 'a'), ('r_b', 'r_a', 'b', 'b', 'b'), ('r_b', 'r_a', 'b', 'b', 'r_a'), ('r_b', 'r_a', 'b', 'b', 'r_b'), ('r_b', 'r_a', 'b', 'r_a', 'a'), ('r_b', 'r_a', 'b', 'r_a', 'b'), ('r_b', 'r_a', 'b', 'r_a', 'r_a'), ('r_b', 'r_a', 'b', 'r_a', 'r_b'), ('r_b', 'r_a', 'b', 'r_b', 'a'), ('r_b', 'r_a', 'b', 'r_b', 'b'), ('r_b', 'r_a', 'b', 'r_b', 'r_a'), ('r_b', 'r_a', 'b', 'r_b', 'r_b'), ('r_b', 'r_a', 'r_a', 'a', 'a'), ('r_b', 'r_a', 'r_a', 'a', 'b'), ('r_b', 'r_a', 'r_a', 'a', 'r_a'), ('r_b', 'r_a', 'r_a', 'a', 'r_b'), ('r_b', 'r_a', 'r_a', 'b', 'a'), ('r_b', 'r_a', 'r_a', 'b', 'b'), ('r_b', 'r_a', 'r_a', 'b', 'r_a'), ('r_b', 'r_a', 'r_a', 'b', 'r_b'), ('r_b', 'r_a', 'r_a', 'r_a', 'a'), ('r_b', 'r_a', 'r_a', 'r_a', 'b'), ('r_b', 'r_a', 'r_a', 'r_a', 'r_a'), ('r_b', 'r_a', 'r_a', 'r_a', 'r_b'), ('r_b', 'r_a', 'r_a', 'r_b', 'a'), ('r_b', 'r_a', 'r_a', 'r_b', 'b'), ('r_b', 'r_a', 'r_a', 'r_b', 'r_a'), ('r_b', 'r_a', 'r_a', 'r_b', 'r_b'), ('r_b', 'r_a', 'r_b', 'a', 'a'), ('r_b', 'r_a', 'r_b', 'a', 'b'), ('r_b', 'r_a', 'r_b', 'a', 'r_a'), ('r_b', 'r_a', 'r_b', 'a', 'r_b'), ('r_b', 'r_a', 'r_b', 'b', 'a'), ('r_b', 'r_a', 'r_b', 'b', 'b'), ('r_b', 'r_a', 'r_b', 'b', 'r_a'), ('r_b', 'r_a', 'r_b', 'b', 'r_b'), ('r_b', 'r_a', 'r_b', 'r_a', 'a'), ('r_b', 'r_a', 'r_b', 'r_a', 'b'), ('r_b', 'r_a', 'r_b', 'r_a', 'r_a'), ('r_b', 'r_a', 'r_b', 'r_a', 'r_b'), ('r_b', 'r_a', 'r_b', 'r_b', 'a'), ('r_b', 'r_a', 'r_b', 'r_b', 'b'), ('r_b', 'r_a', 'r_b', 'r_b', 'r_a'), ('r_b', 'r_a', 'r_b', 'r_b', 'r_b'), ('r_b', 'r_b', 'a', 'a', 'a'), ('r_b', 'r_b', 'a', 'a', 'b'), ('r_b', 'r_b', 'a', 'a', 'r_a'), ('r_b', 'r_b', 'a', 'a', 'r_b'), ('r_b', 'r_b', 'a', 'b', 'a'), ('r_b', 'r_b', 'a', 'b', 'b'), ('r_b', 'r_b', 'a', 'b', 'r_a'), ('r_b', 'r_b', 'a', 'b', 'r_b'), ('r_b', 'r_b', 'a', 'r_a', 'a'), ('r_b', 'r_b', 'a', 'r_a', 'b'), ('r_b', 'r_b', 'a', 'r_a', 'r_a'), ('r_b', 'r_b', 'a', 'r_a', 'r_b'), ('r_b', 'r_b', 'a', 'r_b', 'a'), ('r_b', 'r_b', 'a', 'r_b', 'b'), ('r_b', 'r_b', 'a', 'r_b', 'r_a'), ('r_b', 'r_b', 'a', 'r_b', 'r_b'), ('r_b', 'r_b', 'b', 'a', 'a'), ('r_b', 'r_b', 'b', 'a', 'b'), ('r_b', 'r_b', 'b', 'a', 'r_a'), ('r_b', 'r_b', 'b', 'a', 'r_b'), ('r_b', 'r_b', 'b', 'b', 'a'), ('r_b', 'r_b', 'b', 'b', 'b'), ('r_b', 'r_b', 'b', 'b', 'r_a'), ('r_b', 'r_b', 'b', 'b', 'r_b'), ('r_b', 'r_b', 'b', 'r_a', 'a'), ('r_b', 'r_b', 'b', 'r_a', 'b'), ('r_b', 'r_b', 'b', 'r_a', 'r_a'), ('r_b', 'r_b', 'b', 'r_a', 'r_b'), ('r_b', 'r_b', 'b', 'r_b', 'a'), ('r_b', 'r_b', 'b', 'r_b', 'b'), ('r_b', 'r_b', 'b', 'r_b', 'r_a'), ('r_b', 'r_b', 'b', 'r_b', 'r_b'), ('r_b', 'r_b', 'r_a', 'a', 'a'), ('r_b', 'r_b', 'r_a', 'a', 'b'), ('r_b', 'r_b', 'r_a', 'a', 'r_a'), ('r_b', 'r_b', 'r_a', 'a', 'r_b'), ('r_b', 'r_b', 'r_a', 'b', 'a'), ('r_b', 'r_b', 'r_a', 'b', 'b'), ('r_b', 'r_b', 'r_a', 'b', 'r_a'), ('r_b', 'r_b', 'r_a', 'b', 'r_b'), ('r_b', 'r_b', 'r_a', 'r_a', 'a'), ('r_b', 'r_b', 'r_a', 'r_a', 'b'), ('r_b', 'r_b', 'r_a', 'r_a', 'r_a'), ('r_b', 'r_b', 'r_a', 'r_a', 'r_b'), ('r_b', 'r_b', 'r_a', 'r_b', 'a'), ('r_b', 'r_b', 'r_a', 'r_b', 'b'), ('r_b', 'r_b', 'r_a', 'r_b', 'r_a'), ('r_b', 'r_b', 'r_a', 'r_b', 'r_b'), ('r_b', 'r_b', 'r_b', 'a', 'a'), ('r_b', 'r_b', 'r_b', 'a', 'b'), ('r_b', 'r_b', 'r_b', 'a', 'r_a'), ('r_b', 'r_b', 'r_b', 'a', 'r_b'), ('r_b', 'r_b', 'r_b', 'b', 'a'), ('r_b', 'r_b', 'r_b', 'b', 'b'), ('r_b', 'r_b', 'r_b', 'b', 'r_a'), ('r_b', 'r_b', 'r_b', 'b', 'r_b'), ('r_b', 'r_b', 'r_b', 'r_a', 'a'), ('r_b', 'r_b', 'r_b', 'r_a', 'b'), ('r_b', 'r_b', 'r_b', 'r_a', 'r_a'), ('r_b', 'r_b', 'r_b', 'r_a', 'r_b'), ('r_b', 'r_b', 'r_b', 'r_b', 'a'), ('r_b', 'r_b', 'r_b', 'r_b', 'b'), ('r_b', 'r_b', 'r_b', 'r_b', 'r_a'), ('r_b', 'r_b', 'r_b', 'r_b', 'r_b')]\n"
          ]
        }
      ]
    },
    {
      "cell_type": "code",
      "source": [],
      "metadata": {
        "id": "3vS5bV0lgX-D"
      },
      "execution_count": null,
      "outputs": []
    }
  ]
}